{
 "cells": [
  {
   "cell_type": "markdown",
   "id": "841f72de-ce80-4d59-a5b0-75a6ed0ade73",
   "metadata": {},
   "source": [
    "     Problem 1: Bank Account Create a class representing a bank account with attributes like account number, account holder name, \n",
    "     and balance. Implement methods to deposit and withdraw money from the account.\n"
   ]
  },
  {
   "cell_type": "code",
   "execution_count": 1,
   "id": "86ee2a1c-72a6-4cc5-bbba-72965a026356",
   "metadata": {},
   "outputs": [
    {
     "name": "stdout",
     "output_type": "stream",
     "text": [
      "Welcome to Deposit & Withdrawal Machine!\n"
     ]
    },
    {
     "name": "stdin",
     "output_type": "stream",
     "text": [
      "Enter amount to be deposited:  5000\n"
     ]
    },
    {
     "name": "stdout",
     "output_type": "stream",
     "text": [
      "Amount Deposited:  5000.0\n"
     ]
    },
    {
     "name": "stdin",
     "output_type": "stream",
     "text": [
      "Enter amount to withdraw:  200\n"
     ]
    },
    {
     "name": "stdout",
     "output_type": "stream",
     "text": [
      "You withdraw:  200.0\n",
      "Net Available Balance= 4800.0\n"
     ]
    }
   ],
   "source": [
    "class Bank_Account:\n",
    "    def __init__(self):\n",
    "        self.balance=0\n",
    "        print(\"Welcome to Deposit & Withdrawal Machine!\")\n",
    "        \n",
    "    def deposit(self):\n",
    "        amount=float(input(\"Enter amount to be deposited: \"))\n",
    "        self.balance += amount\n",
    "        print(\"Amount Deposited: \",amount)\n",
    "    def withdraw(self):\n",
    "        amount = float(input(\"Enter amount to withdraw: \"))\n",
    "        if self.balance>=amount:\n",
    "            self.balance-=amount\n",
    "            print(\"You withdraw: \",amount)\n",
    "        else:\n",
    "            print(\"Insufficient balance \")\n",
    "    def display(self):\n",
    "        print(\"Net Available Balance=\",self.balance)\n",
    "#creating an object of class\n",
    "s = Bank_Account()\n",
    "\n",
    "#calling functions with that class\n",
    "s.deposit()\n",
    "s.withdraw()\n",
    "s.display()"
   ]
  },
  {
   "cell_type": "markdown",
   "id": "7553e675-969f-4229-92f1-0933115a855e",
   "metadata": {},
   "source": [
    "      Problem 2: Employee Management Create a class representing an employee with attributes like employee ID, name, and salary. \n",
    "      Implement methods to calculate the yearly bonus and display employee details."
   ]
  },
  {
   "cell_type": "code",
   "execution_count": 2,
   "id": "e9bafd12-319c-4e98-b39c-c9169767085f",
   "metadata": {},
   "outputs": [
    {
     "name": "stdout",
     "output_type": "stream",
     "text": [
      "Original Employee Details:\n",
      "\n",
      "Name:  ADAMS\n",
      "ID:  E7876\n",
      "Salary:  50000\n",
      "Department:  ACCOUNTING\n",
      "----------------------\n",
      "\n",
      "Name:  JONES\n",
      "ID:  E7499\n",
      "Salary:  45000\n",
      "Department:  RESEARCH\n",
      "----------------------\n",
      "\n",
      "Name:  MARTIN\n",
      "ID:  E7900\n",
      "Salary:  50000\n",
      "Department:  SALES\n",
      "----------------------\n",
      "\n",
      "Name:  SMITH\n",
      "ID:  E7698\n",
      "Salary:  55000\n",
      "Department:  OPERATIONS\n",
      "----------------------\n",
      "Updated Employee Details:\n",
      "\n",
      "Name:  ADAMS\n",
      "ID:  E7876\n",
      "Salary:  50000\n",
      "Department:  OPERATIONS\n",
      "----------------------\n",
      "\n",
      "Name:  JONES\n",
      "ID:  E7499\n",
      "Salary:  46800.0\n",
      "Department:  RESEARCH\n",
      "----------------------\n",
      "\n",
      "Name:  MARTIN\n",
      "ID:  E7900\n",
      "Salary:  50000\n",
      "Department:  SALES\n",
      "----------------------\n",
      "\n",
      "Name:  SMITH\n",
      "ID:  E7698\n",
      "Salary:  66000.0\n",
      "Department:  SALES\n",
      "----------------------\n"
     ]
    }
   ],
   "source": [
    "class Employee:\n",
    "    def __init__(self, name, emp_id, salary, department):\n",
    "        self.name = name\n",
    "        self.id = emp_id\n",
    "        self.salary = salary\n",
    "        self.department = department\n",
    "\n",
    "    def calculate_salary(self, salary, hours_worked):\n",
    "        overtime = 0\n",
    "        if hours_worked > 50:\n",
    "            overtime = hours_worked - 50\n",
    "        self.salary = self.salary + (overtime * (self.salary / 50))\n",
    "\n",
    "    def assign_department(self, emp_department):\n",
    "        self.department = emp_department\n",
    "\n",
    "    def print_employee_details(self):\n",
    "        print(\"\\nName: \", self.name)\n",
    "        print(\"ID: \", self.id)\n",
    "        print(\"Salary: \", self.salary)\n",
    "        print(\"Department: \", self.department)\n",
    "        print(\"----------------------\")\n",
    "\n",
    "\n",
    "employee1 = Employee(\"ADAMS\", \"E7876\", 50000, \"ACCOUNTING\")\n",
    "employee2 = Employee(\"JONES\", \"E7499\", 45000, \"RESEARCH\")\n",
    "employee3 = Employee(\"MARTIN\", \"E7900\", 50000, \"SALES\")\n",
    "employee4 = Employee(\"SMITH\", \"E7698\", 55000, \"OPERATIONS\")\n",
    "\n",
    "print(\"Original Employee Details:\")\n",
    "employee1.print_employee_details()\n",
    "employee2.print_employee_details()\n",
    "employee3.print_employee_details()\n",
    "employee4.print_employee_details()\n",
    "\n",
    "# Change the departments of employee1 and employee4\n",
    "employee1.assign_department(\"OPERATIONS\")\n",
    "employee4.assign_department(\"SALES\")\n",
    "\n",
    "# Now calculate the overtime of the employees who are eligible:\n",
    "employee2.calculate_salary(45000, 52)\n",
    "employee4.calculate_salary(45000, 60)\n",
    "\n",
    "print(\"Updated Employee Details:\")\n",
    "employee1.print_employee_details()\n",
    "employee2.print_employee_details()\n",
    "employee3.print_employee_details()\n",
    "employee4.print_employee_details()\n"
   ]
  },
  {
   "cell_type": "markdown",
   "id": "d7c72213-c14b-4a76-a8b9-c7bbb918b814",
   "metadata": {},
   "source": [
    "    Problem 3: Vehicle Rental Create a class representing a vehicle rental system. Implement methods to rent a vehicle, \n",
    "    return a vehicle, and display available vehicles.\n"
   ]
  },
  {
   "cell_type": "code",
   "execution_count": 3,
   "id": "cd1fd127-e2d0-4d4f-b752-8dd7d9eb88f7",
   "metadata": {},
   "outputs": [],
   "source": [
    "from enum import Enum\n",
    "\n",
    "\n",
    "class BillItemType(Enum):\n",
    "    BASE_CHARGE, ADDITIONAL_SERVICE, FINE, OTHER = 1, 2, 3, 4\n",
    "\n",
    "\n",
    "class VehicleLogType(Enum):\n",
    "    ACCIDENT, FUELING, CLEANING_SERVICE, OIL_CHANGE, REPAIR, OTHER = 1, 2, 3, 4, 5, 6\n",
    "\n",
    "\n",
    "class VanType(Enum):\n",
    "    PASSENGER, CARGO = 1, 2\n",
    "\n",
    "\n",
    "class CarType(Enum):\n",
    "    ECONOMY, COMPACT, INTERMEDIATE, STANDARD, FULL_SIZE, PREMIUM, LUXURY = 1, 2, 3, 4, 5, 6, 7\n",
    "\n",
    "\n",
    "class VehicleStatus(Enum):\n",
    "    AVAILABLE, RESERVED, LOANED, LOST, BEING_SERVICED, OTHER = 1, 2, 3, 4, 5, 6\n",
    "\n",
    "\n",
    "class ReservationStatus(Enum):\n",
    "    ACTIVE, PENDING, CONFIRMED, COMPLETED, CANCELLED, NONE = 1, 2, 3, 4, 5, 6\n",
    "\n",
    "\n",
    "class AccountStatus(Enum):\n",
    "    ACTIVE, CLOSED, CANCELED, BLACKLISTED, BLOCKED = 1, 2, 3, 4, 5\n",
    "\n",
    "\n",
    "class PaymentStatus(Enum):\n",
    "    UNPAID, PENDING, COMPLETED, FILLED, DECLINED, CANCELLED, ABANDONED, SETTLING, SETTLED, REFUNDED = 1, 2, 3, 4, 5, 6, 7, 8, 9, 10\n",
    "\n",
    "\n",
    "class Address:\n",
    "    def __init__(self, street, city, state, zip_code, country):\n",
    "        self.__street_address = street\n",
    "        self.__city = city\n",
    "        self.__state = state\n",
    "        self.__zip_code = zip_code\n",
    "        self.__country = country\n",
    "\n",
    "\n",
    "class Person():\n",
    "    def __init__(self, name, address, email, phone):\n",
    "        self.__name = name\n",
    "        self.__address = address\n",
    "        self.__email = email\n",
    "        self.__phone = phone\n"
   ]
  },
  {
   "cell_type": "markdown",
   "id": "26ac70fe-78cd-4dc1-aa75-d64021baaf77",
   "metadata": {},
   "source": [
    "    Problem 4: Library Catalog Create classes representing a library and a book. Implement methods to add books to the library, \n",
    "    borrow books, and  display available books."
   ]
  },
  {
   "cell_type": "code",
   "execution_count": 4,
   "id": "b27d3a25-21d2-46d0-99d0-d6555c6e255f",
   "metadata": {},
   "outputs": [
    {
     "name": "stdin",
     "output_type": "stream",
     "text": [
      "\n",
      " Choose option:  lupin\n"
     ]
    },
    {
     "name": "stdout",
     "output_type": "stream",
     "text": [
      "Available options: add_book, show_books, remove_book, quit\n"
     ]
    },
    {
     "name": "stdin",
     "output_type": "stream",
     "text": [
      "\n",
      " Choose option:  show_books\n"
     ]
    },
    {
     "name": "stdout",
     "output_type": "stream",
     "text": [
      "Harry Potter Lord of the rings Lupin "
     ]
    },
    {
     "name": "stdin",
     "output_type": "stream",
     "text": [
      "\n",
      " Choose option:  harry poteer\n"
     ]
    },
    {
     "name": "stdout",
     "output_type": "stream",
     "text": [
      "Available options: add_book, show_books, remove_book, quit\n"
     ]
    },
    {
     "name": "stdin",
     "output_type": "stream",
     "text": [
      "\n",
      " Choose option:  quit\n"
     ]
    }
   ],
   "source": [
    "library = ['Harry Potter','Lord of the rings','Lupin']\n",
    "\n",
    "while True:\n",
    "    user_input = input('\\n Choose option: ')\n",
    "\n",
    "    if user_input == 'add_book':\n",
    "        to_add = input('add_book: ')\n",
    "        library.append(to_add)\n",
    "    elif user_input =='show_books':\n",
    "        for e in library:\n",
    "            print((e),end=' ')\n",
    "    elif user_input =='remove_book':\n",
    "        to_remove = input(\"remove_book: \")\n",
    "        library.remove(to_remove)\n",
    "    elif user_input == 'quit':\n",
    "        break\n",
    "    else:\n",
    "        print(\"Available options: add_book, show_books, remove_book, quit\")"
   ]
  },
  {
   "cell_type": "markdown",
   "id": "9a5b9ae2-1796-43c3-b58c-bb4aae754983",
   "metadata": {},
   "source": [
    "    Problem 5: Product Inventory Create classes representing a product and an inventory system. Implement methods to add products \n",
    "    to the inventory, update product quantity, and display available products."
   ]
  },
  {
   "cell_type": "code",
   "execution_count": 7,
   "id": "5fe428d4-9741-4c2d-ae99-af7dc110cc8a",
   "metadata": {},
   "outputs": [
    {
     "name": "stdout",
     "output_type": "stream",
     "text": [
      "Item Details:\n",
      "Product Name: Laptop, Stock Count: 100, Price: 500.0\n",
      "Product Name: Mobile, Stock Count: 110, Price: 450.0\n",
      "Product Name: Desktop, Stock Count: 120, Price: 500.0\n",
      "Product Name: Tablet, Stock Count: 90, Price: 550.0\n",
      "\n",
      "Update the price of item code - 'I001':\n",
      "Product Name: Laptop, Stock Count: 100, Price: 505.0\n",
      "\n",
      "Update the stock of item code - 'I003':\n",
      "Product Name: Desktop, Stock Count: 115, Price: 500.0\n"
     ]
    }
   ],
   "source": [
    "class Inventory:\n",
    "    def __init__(self):\n",
    "        self.inventory = {}\n",
    "    def add_item(self, item_id, item_name, stock_count, price):\n",
    "        self.inventory[item_id] = {\"item_name\": item_name, \"stock_count\": stock_count, \"price\": price}\n",
    "\n",
    "    def update_item(self, item_id, stock_count, price):\n",
    "        if item_id in self.inventory:\n",
    "            self.inventory[item_id][\"stock_count\"] = stock_count\n",
    "            self.inventory[item_id][\"price\"] = price\n",
    "        else:\n",
    "            print(\"Item not found in inventory.\")\n",
    "\n",
    "    def check_item_details(self, item_id):\n",
    "        if item_id in self.inventory:\n",
    "            item = self.inventory[item_id]\n",
    "            return f\"Product Name: {item['item_name']}, Stock Count: {item['stock_count']}, Price: {item['price']}\"\n",
    "        else:\n",
    "            return \"Item not found in inventory.\"\n",
    "\n",
    "inventory = Inventory()\n",
    "\n",
    "inventory.add_item(\"I001\", \"Laptop\", 100, 500.00)\n",
    "inventory.add_item(\"I002\", \"Mobile\", 110, 450.00)\n",
    "inventory.add_item(\"I003\", \"Desktop\", 120, 500.00)\n",
    "inventory.add_item(\"I004\", \"Tablet\", 90, 550.00)\n",
    "print(\"Item Details:\")\n",
    "print(inventory.check_item_details(\"I001\"))\n",
    "print(inventory.check_item_details(\"I002\"))\n",
    "print(inventory.check_item_details(\"I003\"))\n",
    "print(inventory.check_item_details(\"I004\"))\n",
    "print(\"\\nUpdate the price of item code - 'I001':\")\n",
    "inventory.update_item(\"I001\", 100, 505.00)\n",
    "print(inventory.check_item_details(\"I001\"))\n",
    "print(\"\\nUpdate the stock of item code - 'I003':\")\n",
    "inventory.update_item(\"I003\", 115, 500.00)\n",
    "print(inventory.check_item_details(\"I003\"))"
   ]
  },
  {
   "cell_type": "markdown",
   "id": "977ec113-bdd6-4a35-95ce-78fe7f65220d",
   "metadata": {},
   "source": [
    "      Problem 6: Shape Calculation Create a class representing a shape with attributes like length, width, and height. Implement methods to \n",
    "      calculate the area and perimeter of the shape.\n"
   ]
  },
  {
   "cell_type": "code",
   "execution_count": 16,
   "id": "677d0512-9d9d-4e02-acb7-b71f0c4cecc2",
   "metadata": {},
   "outputs": [
    {
     "name": "stdin",
     "output_type": "stream",
     "text": [
      "Enter radius:  2\n",
      "Enter side 1:  12.57\n",
      "Enter side 2:  4\n",
      "Enter base:  4\n",
      "Enter height:  2\n"
     ]
    }
   ],
   "source": [
    "class shape():\n",
    "    def __init__(self, r = None, s1 = None, s2 = None, b = None, h = None):\n",
    "        self.radius = r\n",
    "        self.side1 = s1\n",
    "        self.side2 = s2\n",
    "        self.base = b\n",
    "        self.height = h\n",
    "    def inputSidesC(self):\n",
    "        self.radius = int(input(\"Enter radius: \"))\n",
    "        circle()\n",
    "    def inputSidesR(self):\n",
    "        self.side1 = float(input(\"Enter side 1: \"))\n",
    "        self.side2 = int(input(\"Enter side 2: \"))\n",
    "        rectangle()\n",
    "    def inputSidesT(self):\n",
    "        self.base = int(input(\"Enter base: \"))\n",
    "        self.height = int(input(\"Enter height: \"))\n",
    "        triangle()\n",
    "class circle(shape):\n",
    "    def __init__(self, r = None):\n",
    "        self.radius = r\n",
    "    def area(self):\n",
    "        pi = 3.14159265359\n",
    "        print(\"Area of circle: \", pi * (self.radius * 2))\n",
    "class rectangle(shape):\n",
    "    def __init__(self, s1 = None, s2 = None):\n",
    "        self.side1 = s1\n",
    "        self.side2 = s2\n",
    "    def area(self):\n",
    "        print(\"area of rectangle\", self.side1 * self.side2)\n",
    "class triangle(shape):\n",
    "    def __init__(self, b = None, h = None):\n",
    "        self.base = b\n",
    "        self.height = h\n",
    "    def area(self):\n",
    "        print(\"Area of triangle: \", 0.5 * self.base * self.height)\n",
    "\n",
    "c = circle()\n",
    "c.inputSidesC()\n",
    "\n",
    "r = rectangle()\n",
    "r.inputSidesR()\n",
    "\n",
    "t = triangle()\n",
    "t.inputSidesT()"
   ]
  },
  {
   "cell_type": "markdown",
   "id": "a2c943b4-71c7-457c-b12f-3c8689e737cd",
   "metadata": {},
   "source": [
    "     Problem 7: Student Management Create a class representing a student with attributes like student ID, name, and grades. Implement methods to calculate the \n",
    "     average grade and display student details."
   ]
  },
  {
   "cell_type": "code",
   "execution_count": 17,
   "id": "a15abf75-1d35-489b-9ba8-b8ee5d3706db",
   "metadata": {},
   "outputs": [
    {
     "name": "stdin",
     "output_type": "stream",
     "text": [
      "Enter Roll Number :  10\n",
      "Enter Name :  bhavesh\n",
      "Enter Physics Marks :  50\n",
      "Enter Chemistry Marks :  20\n",
      "Enter Math Marks :  80\n"
     ]
    },
    {
     "name": "stdout",
     "output_type": "stream",
     "text": [
      "Result : \n",
      "10 bhavesh 50\n",
      "result after adding grace marks...\n",
      "10 bhavesh 53\n"
     ]
    }
   ],
   "source": [
    "class Student:\n",
    "    def getStudentDetails(self):\n",
    "        self.rollno=input(\"Enter Roll Number : \")\n",
    "        self.name = input(\"Enter Name : \")\n",
    "        self.physics =int(input(\"Enter Physics Marks : \"))\n",
    "        self.chemistry = int(input(\"Enter Chemistry Marks : \"))\n",
    "        self.maths = int(input(\"Enter Math Marks : \"))\n",
    "\n",
    "    def printResult(self):\n",
    "        self.percentage = (int)( (self.physics + self.chemistry + self.maths) / 300 * 100 ); \n",
    "        print(self.rollno,self.name, self.percentage)\n",
    "\n",
    "S1=Student()\n",
    "S1.getStudentDetails()\n",
    "\n",
    "print(\"Result : \")\n",
    "S1.printResult()\n",
    "\n",
    "S1.physics += 9\n",
    "\n",
    "print(\"result after adding grace marks...\")\n",
    "S1.printResult()"
   ]
  },
  {
   "cell_type": "markdown",
   "id": "fd9e609b-a6b8-4285-a161-eab74de00930",
   "metadata": {},
   "source": [
    "    Problem 8: Email Management Create a class representing an email with attributes like sender, recipient, and subject. \n",
    "    Implement methods to send an email and display email details.\n"
   ]
  },
  {
   "cell_type": "code",
   "execution_count": 22,
   "id": "ac7a1561-e2ed-4c27-aaa6-b36836b25753",
   "metadata": {},
   "outputs": [
    {
     "name": "stdout",
     "output_type": "stream",
     "text": [
      "To: someone_else@example.com\n",
      "From: Foo Bar <user@example.com>\n",
      "Subject: Test message\n",
      "Recipient username: someone_else\n",
      "Sender name: Foo Bar\n"
     ]
    }
   ],
   "source": [
    "# Import the email modules we'll need\n",
    "#from email.parser import BytesParser\n",
    "from email.parser import Parser\n",
    "from email.policy import default\n",
    "\n",
    "# If the e-mail headers are in a file, uncomment these two lines:\n",
    "# with open(messagefile, 'rb') as fp:\n",
    "#     headers = BytesParser(policy=default).parse(fp)\n",
    "\n",
    "#  Or for parsing headers in a string (this is an uncommon operation), use:\n",
    "headers = Parser(policy=default).parsestr(\n",
    "        'From: Foo Bar <user@example.com>\\n'\n",
    "        'To: <someone_else@example.com>\\n'\n",
    "        'Subject: Test message\\n'\n",
    "        '\\n'\n",
    "        'Body would go here\\n')\n",
    "\n",
    "#  Now the header items can be accessed as a dictionary:\n",
    "print('To: {}'.format(headers['to']))\n",
    "print('From: {}'.format(headers['from']))\n",
    "print('Subject: {}'.format(headers['subject']))\n",
    "\n",
    "# You can also access the parts of the addresses:\n",
    "print('Recipient username: {}'.format(headers['to'].addresses[0].username))\n",
    "print('Sender name: {}'.format(headers['from'].addresses[0].display_name))"
   ]
  },
  {
   "cell_type": "markdown",
   "id": "873f6134-bc01-4554-86ae-feb9eece643e",
   "metadata": {},
   "source": [
    "    Problem 9: Social Media Profile Create a class representing a social media profile with attributes like username and posts.\n",
    "    Implement methods to add posts, display posts, and search for posts by keyword.\n"
   ]
  },
  {
   "cell_type": "code",
   "execution_count": null,
   "id": "28e93d3b-2d98-49ae-9552-32d5469ff207",
   "metadata": {},
   "outputs": [],
   "source": []
  },
  {
   "cell_type": "markdown",
   "id": "410fbf4c-b737-4d8a-84ab-265c8e8281a8",
   "metadata": {},
   "source": [
    "\n",
    "    Problem 10: ToDo List Create a class representing a ToDo list with attributes like tasks and due dates. \n",
    "    Implement methods to add tasks, mark tasks as completed, and display pending tasks."
   ]
  },
  {
   "cell_type": "code",
   "execution_count": 29,
   "id": "4e9b13cb-74d7-4930-867a-650fc9065107",
   "metadata": {},
   "outputs": [],
   "source": [
    "# Function to Complete a todo\n",
    "def done(no):\n",
    "\ttry:\n",
    "\n",
    "\t\tnec()\n",
    "\t\tno = int(no)\n",
    "\t\tf = open('done.txt', 'a')\n",
    "\t\tst = 'x '+str(datetime.datetime.today()).split()[0]+' '+d[no]\n",
    "\t\t\n",
    "\t\tf.write(st)\n",
    "\t\tf.write(\"\\n\")\n",
    "\t\tf.close()\n",
    "\t\tprint(f\"Marked todo #{no} as done.\")\n",
    "\t\t\n",
    "\t\twith open(\"todo.txt\", \"r+\") as f:\n",
    "\t\t\tlines = f.readlines()\n",
    "\t\t\tf.seek(0)\n",
    "\t\t\t\n",
    "\t\t\tfor i in lines:\n",
    "\t\t\t\tif i.strip('\\n') != d[no]:\n",
    "\t\t\t\t\tf.write(i)\n",
    "\t\t\tf.truncate()\n",
    "\texcept:\n",
    "\t\tprint(f\"Error: todo #{no} does not exist.\")\n"
   ]
  },
  {
   "cell_type": "code",
   "execution_count": null,
   "id": "f7d0e0c9-efa3-42c6-9ad4-a74687a37a3b",
   "metadata": {},
   "outputs": [],
   "source": []
  }
 ],
 "metadata": {
  "kernelspec": {
   "display_name": "Python 3 (ipykernel)",
   "language": "python",
   "name": "python3"
  },
  "language_info": {
   "codemirror_mode": {
    "name": "ipython",
    "version": 3
   },
   "file_extension": ".py",
   "mimetype": "text/x-python",
   "name": "python",
   "nbconvert_exporter": "python",
   "pygments_lexer": "ipython3",
   "version": "3.10.8"
  }
 },
 "nbformat": 4,
 "nbformat_minor": 5
}
